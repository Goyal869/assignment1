{
 "cells": [
  {
   "cell_type": "code",
   "execution_count": 1,
   "id": "2a6585bc",
   "metadata": {},
   "outputs": [
    {
     "name": "stdout",
     "output_type": "stream",
     "text": [
      "enter number 5\n",
      "2 5\n",
      "1 2\n",
      "4 4\n",
      "2 3\n",
      "2 1\n",
      "List of Tuple before sorting : [(2, 5), (1, 2), (4, 4), (2, 3), (2, 1)]\n",
      "List of Tuple after sorting : [(2, 1), (1, 2), (2, 3), (4, 4), (2, 5)]\n"
     ]
    }
   ],
   "source": [
    "list1 =[]\n",
    "n=int(input(\"enter number \"))\n",
    "for i in range(n):\n",
    "    t=tuple(map(int,input().split()))\n",
    "    list1.append(t)\n",
    "print(\"List of Tuple before sorting : \" + str(list1))\n",
    "\n",
    "\n",
    "\n",
    "for i in range(0, len(list1)):  \n",
    "    for j in range(0, len(list1) - i - 1):  \n",
    "        if(list1[j][-1] > list1[j + 1][-1]): \n",
    "            swap = list1[j]\n",
    "            list1[j] =list1[j + 1]\n",
    "            list1[j + 1] = swap\n",
    "\n",
    "\n",
    "print(\"List of Tuple after sorting : \" + str(list1))\n"
   ]
  },
  {
   "cell_type": "code",
   "execution_count": null,
   "id": "d515da5a",
   "metadata": {},
   "outputs": [],
   "source": []
  }
 ],
 "metadata": {
  "kernelspec": {
   "display_name": "Python 3 (ipykernel)",
   "language": "python",
   "name": "python3"
  },
  "language_info": {
   "codemirror_mode": {
    "name": "ipython",
    "version": 3
   },
   "file_extension": ".py",
   "mimetype": "text/x-python",
   "name": "python",
   "nbconvert_exporter": "python",
   "pygments_lexer": "ipython3",
   "version": "3.9.12"
  }
 },
 "nbformat": 4,
 "nbformat_minor": 5
}
