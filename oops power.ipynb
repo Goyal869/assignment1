{
 "cells": [
  {
   "cell_type": "code",
   "execution_count": 39,
   "id": "25860207",
   "metadata": {},
   "outputs": [
    {
     "name": "stdout",
     "output_type": "stream",
     "text": [
      "Enter the number = 10\n",
      "Enter the power = 2\n",
      "result is =  100\n"
     ]
    }
   ],
   "source": [
    "#Write a Python class to implement pow(x, n)\n",
    "#Explanation:\n",
    "#Use should be able to find the nth power of the x.(i.e x*x*x*x...n times)\n",
    "#You must implement it using Class\n",
    "#Sample Input:x: 10\n",
    "#n: 2\n",
    "#Sample Output:100\n",
    "class pow:\n",
    "    def __init__(self,x,n):\n",
    "        self.x=x\n",
    "        self.n=n\n",
    "    def power(self):\n",
    "        self.x=x**n\n",
    "        print(\"result is = \",self.x)\n",
    "x=int(input(\"Enter the number = \"))\n",
    "n=int(input(\"Enter the power = \"))\n",
    "c=pow(x,n)\n",
    "c.power()"
   ]
  },
  {
   "cell_type": "code",
   "execution_count": null,
   "id": "7359319a",
   "metadata": {},
   "outputs": [],
   "source": []
  },
  {
   "cell_type": "code",
   "execution_count": null,
   "id": "7dbe458f",
   "metadata": {},
   "outputs": [],
   "source": []
  }
 ],
 "metadata": {
  "kernelspec": {
   "display_name": "Python 3 (ipykernel)",
   "language": "python",
   "name": "python3"
  },
  "language_info": {
   "codemirror_mode": {
    "name": "ipython",
    "version": 3
   },
   "file_extension": ".py",
   "mimetype": "text/x-python",
   "name": "python",
   "nbconvert_exporter": "python",
   "pygments_lexer": "ipython3",
   "version": "3.9.12"
  }
 },
 "nbformat": 4,
 "nbformat_minor": 5
}
