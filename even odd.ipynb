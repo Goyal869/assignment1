{
 "cells": [
  {
   "cell_type": "code",
   "execution_count": 1,
   "id": "7b1cdf65",
   "metadata": {},
   "outputs": [
    {
     "name": "stdout",
     "output_type": "stream",
     "text": [
      "enter the number of days= 5\n",
      "enter number1\n",
      "enter number2\n",
      "enter number3\n",
      "enter number4\n",
      "enter number5\n",
      "[1, 2, 3, 4, 5]\n",
      "numbers of even days 2\n",
      "numbers of odd days 3\n"
     ]
    }
   ],
   "source": [
    "#Write a Python program to count the number of even and odd numbers from a series of numbers.\n",
    "n=int(input(\"enter the number of days= \"))\n",
    "list_of_numbers=[]\n",
    "even=0\n",
    "odd=0\n",
    "for i in range(n): \n",
    "    num=int(input(\"enter number\"))\n",
    "    list_of_numbers.append(num)\n",
    "    if list_of_numbers[i]%2==0:\n",
    "        even=even+1\n",
    "    else:\n",
    "        odd=odd+1\n",
    "print(list_of_numbers)\n",
    "print(\"numbers of even days\"  , even)\n",
    "print(\"numbers of odd days\"  , odd)\n"
   ]
  },
  {
   "cell_type": "code",
   "execution_count": null,
   "id": "c15bcd01",
   "metadata": {},
   "outputs": [],
   "source": []
  }
 ],
 "metadata": {
  "kernelspec": {
   "display_name": "Python 3 (ipykernel)",
   "language": "python",
   "name": "python3"
  },
  "language_info": {
   "codemirror_mode": {
    "name": "ipython",
    "version": 3
   },
   "file_extension": ".py",
   "mimetype": "text/x-python",
   "name": "python",
   "nbconvert_exporter": "python",
   "pygments_lexer": "ipython3",
   "version": "3.9.12"
  }
 },
 "nbformat": 4,
 "nbformat_minor": 5
}
