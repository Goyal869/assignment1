{
 "cells": [
  {
   "cell_type": "code",
   "execution_count": null,
   "id": "22309c0b",
   "metadata": {},
   "outputs": [],
   "source": [
    "# Creating and Print list \n",
    "list1 = [(2, 5), (1, 2), (4, 4), (2, 3), (2, 1)]\n",
    "print(\"List of Tuple before sorting : \" + str(list1))\n",
    "\n",
    "\n",
    "\n",
    "for i in range(0, len(list1)):  \n",
    "    for j in range(0, len(list1) - i - 1):  \n",
    "        if(list1[j][-1] > list1[j + 1][-1]): \n",
    "            swap = list1[j]\n",
    "            list1[j] =list1[j + 1]\n",
    "            list1[j + 1] = swap\n",
    "\n",
    "\n",
    "print(\"List of Tuple after sorting : \" + str(list1))\n"
   ]
  }
 ],
 "metadata": {
  "kernelspec": {
   "display_name": "Python 3 (ipykernel)",
   "language": "python",
   "name": "python3"
  },
  "language_info": {
   "codemirror_mode": {
    "name": "ipython",
    "version": 3
   },
   "file_extension": ".py",
   "mimetype": "text/x-python",
   "name": "python",
   "nbconvert_exporter": "python",
   "pygments_lexer": "ipython3",
   "version": "3.9.12"
  }
 },
 "nbformat": 4,
 "nbformat_minor": 5
}
