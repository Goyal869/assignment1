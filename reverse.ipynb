{
 "cells": [
  {
   "cell_type": "code",
   "execution_count": 1,
   "id": "6dc51a4f",
   "metadata": {},
   "outputs": [
    {
     "name": "stdout",
     "output_type": "stream",
     "text": [
      "Input a word to reverse  = edyoda\n",
      "adoyde\n"
     ]
    }
   ],
   "source": [
    "#Write a Python program that accepts a word from the user and reverse it\n",
    "word = input(\"Input a word to reverse  = \")\n",
    "\n",
    "reversed_word=word[::-1]\n",
    "print(reversed_word)\n"
   ]
  },
  {
   "cell_type": "code",
   "execution_count": null,
   "id": "93df4249",
   "metadata": {},
   "outputs": [],
   "source": []
  }
 ],
 "metadata": {
  "kernelspec": {
   "display_name": "Python 3 (ipykernel)",
   "language": "python",
   "name": "python3"
  },
  "language_info": {
   "codemirror_mode": {
    "name": "ipython",
    "version": 3
   },
   "file_extension": ".py",
   "mimetype": "text/x-python",
   "name": "python",
   "nbconvert_exporter": "python",
   "pygments_lexer": "ipython3",
   "version": "3.9.12"
  }
 },
 "nbformat": 4,
 "nbformat_minor": 5
}
