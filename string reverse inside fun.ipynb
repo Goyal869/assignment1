{
 "cells": [
  {
   "cell_type": "code",
   "execution_count": 12,
   "id": "b79c3e3a",
   "metadata": {},
   "outputs": [
    {
     "name": "stdout",
     "output_type": "stream",
     "text": [
      "enter string 1234abcd\n",
      "after reversing string =  dcba4321\n"
     ]
    }
   ],
   "source": [
    "#Write a Python program to reverse a string.\n",
    "\n",
    "#Sample String : \"1234abcd\"\n",
    "#Expected Output : \"dcba4321\"\n",
    "\n",
    "x=input(\"enter string \")\n",
    "def reverse(x):\n",
    "    for i in x:\n",
    "        x=x[::-1]\n",
    "        return x\n",
    "print(\"after reversing string = \",reverse(x))"
   ]
  },
  {
   "cell_type": "code",
   "execution_count": null,
   "id": "7275521b",
   "metadata": {},
   "outputs": [],
   "source": []
  },
  {
   "cell_type": "code",
   "execution_count": null,
   "id": "f61cf461",
   "metadata": {},
   "outputs": [],
   "source": []
  }
 ],
 "metadata": {
  "kernelspec": {
   "display_name": "Python 3 (ipykernel)",
   "language": "python",
   "name": "python3"
  },
  "language_info": {
   "codemirror_mode": {
    "name": "ipython",
    "version": 3
   },
   "file_extension": ".py",
   "mimetype": "text/x-python",
   "name": "python",
   "nbconvert_exporter": "python",
   "pygments_lexer": "ipython3",
   "version": "3.9.12"
  }
 },
 "nbformat": 4,
 "nbformat_minor": 5
}
