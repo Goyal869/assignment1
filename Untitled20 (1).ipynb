{
 "cells": [
  {
   "cell_type": "code",
   "execution_count": 1,
   "id": "ffde8a1b",
   "metadata": {},
   "outputs": [
    {
     "name": "stdout",
     "output_type": "stream",
     "text": [
      "1 2 3 4 5 6 7\n",
      "list before any operation is  [1, 2, 3, 4, 5, 6, 7]\n",
      "list after triple of number [3, 6, 9, 12, 15, 18, 21]\n"
     ]
    }
   ],
   "source": [
    "#Write a Python program to triple all numbers of a given list of integers. Use Python map.\n",
    "#sample list: [1, 2, 3, 4, 5, 6, 7]\n",
    "#Triple of list numbers:[3, 6, 9, 12, 15, 18, 21]\n",
    "\n",
    "\n",
    "def  triple(x):\n",
    "    return 3*x\n",
    "    \n",
    "list1=[int(x) for x in input().split()]\n",
    "print(\"list before any operation is \" , list1)\n",
    "result=list(map(triple,list1))\n",
    "print(\"list after triple of number\",result)"
   ]
  },
  {
   "cell_type": "code",
   "execution_count": null,
   "id": "7a699399",
   "metadata": {},
   "outputs": [],
   "source": []
  }
 ],
 "metadata": {
  "kernelspec": {
   "display_name": "Python 3 (ipykernel)",
   "language": "python",
   "name": "python3"
  },
  "language_info": {
   "codemirror_mode": {
    "name": "ipython",
    "version": 3
   },
   "file_extension": ".py",
   "mimetype": "text/x-python",
   "name": "python",
   "nbconvert_exporter": "python",
   "pygments_lexer": "ipython3",
   "version": "3.9.12"
  }
 },
 "nbformat": 4,
 "nbformat_minor": 5
}
