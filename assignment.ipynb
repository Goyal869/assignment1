{
 "cells": [
  {
   "cell_type": "code",
   "execution_count": 50,
   "id": "26860f9e",
   "metadata": {
    "scrolled": true
   },
   "outputs": [
    {
     "name": "stdout",
     "output_type": "stream",
     "text": [
      "enter the first number of range  0\n",
      "enter the last number of range   50\n",
      "fibbonacci series between 0 to 50 is\n",
      "1 1 2 3 5 8 13 21 34 "
     ]
    }
   ],
   "source": [
    "#Write a Python program to get the Fibonacci series between 0 to 50\n",
    "n1=int(input(\"enter the first number of range  \"))\n",
    "n2=int(input(\"enter the last number of range   \"))\n",
    "print(\"fibbonacci series between\" ,n1,\"to\"  ,n2, \"is\")\n",
    "a=0\n",
    "b=1\n",
    "for i in range(n1,n2):  \n",
    "    c=a+b\n",
    "    a=b\n",
    "    b=c\n",
    "    print(a, end=\" \") \n",
    "    if (b>n2):\n",
    "        break\n"
   ]
  },
  {
   "cell_type": "code",
   "execution_count": 84,
   "id": "0589e623",
   "metadata": {},
   "outputs": [
    {
     "name": "stdout",
     "output_type": "stream",
     "text": [
      "Input a word to reverse  = edyoda\n",
      "adoyde"
     ]
    }
   ],
   "source": [
    "\n",
    "word = input(\"Input a word to reverse  = \")\n",
    "\n",
    "for i in range(len(word) -1, -1, -1):\n",
    "    print(word[i], end=\"\")\n"
   ]
  },
  {
   "cell_type": "code",
   "execution_count": 83,
   "id": "b362015f",
   "metadata": {},
   "outputs": [
    {
     "name": "stdout",
     "output_type": "stream",
     "text": [
      "enter the number of days= 5\n",
      "enter number1\n",
      "enter number3\n",
      "enter number5\n",
      "enter number9\n",
      "enter number11\n",
      "[1, 3, 5, 9, 11]\n",
      "numbers of even days 0\n",
      "numbers of odd days 5\n"
     ]
    }
   ],
   "source": [
    "#Write a Python program to count the number of even and odd numbers from a series of numbers.\n",
    "n=int(input(\"enter the number of days= \"))\n",
    "list_of_numbers=[]\n",
    "even=0\n",
    "odd=0\n",
    "for i in range(n): \n",
    "    num=int(input(\"enter number\"))\n",
    "    list_of_numbers.append(num)\n",
    "    if list_of_numbers[i]%2==0:\n",
    "        even=even+1\n",
    "    else:\n",
    "        odd=odd+1\n",
    "print(list_of_numbers)\n",
    "print(\"numbers of even days\"  , even)\n",
    "print(\"numbers of odd days\"  , odd)\n"
   ]
  },
  {
   "cell_type": "code",
   "execution_count": null,
   "id": "07c063eb",
   "metadata": {},
   "outputs": [],
   "source": []
  }
 ],
 "metadata": {
  "kernelspec": {
   "display_name": "Python 3 (ipykernel)",
   "language": "python",
   "name": "python3"
  },
  "language_info": {
   "codemirror_mode": {
    "name": "ipython",
    "version": 3
   },
   "file_extension": ".py",
   "mimetype": "text/x-python",
   "name": "python",
   "nbconvert_exporter": "python",
   "pygments_lexer": "ipython3",
   "version": "3.9.12"
  }
 },
 "nbformat": 4,
 "nbformat_minor": 5
}
