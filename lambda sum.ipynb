{
 "cells": [
  {
   "cell_type": "code",
   "execution_count": 1,
   "id": "37c43fc5",
   "metadata": {},
   "outputs": [
    {
     "name": "stdout",
     "output_type": "stream",
     "text": [
      "enter number = 10\n",
      "after add result = 35\n"
     ]
    }
   ],
   "source": [
    "#Write a Python program to create a lambda function that adds 25 to a given number passed in as an argument.\n",
    "#sample input: 10\n",
    "#sample output: 35\n",
    "\n",
    "\n",
    "n=int(input(\"enter number = \"))\n",
    "x=lambda n:n+25\n",
    "print(\"after add result =\" ,x(n))"
   ]
  },
  {
   "cell_type": "code",
   "execution_count": null,
   "id": "72417bc2",
   "metadata": {},
   "outputs": [],
   "source": []
  }
 ],
 "metadata": {
  "kernelspec": {
   "display_name": "Python 3 (ipykernel)",
   "language": "python",
   "name": "python3"
  },
  "language_info": {
   "codemirror_mode": {
    "name": "ipython",
    "version": 3
   },
   "file_extension": ".py",
   "mimetype": "text/x-python",
   "name": "python",
   "nbconvert_exporter": "python",
   "pygments_lexer": "ipython3",
   "version": "3.9.12"
  }
 },
 "nbformat": 4,
 "nbformat_minor": 5
}
